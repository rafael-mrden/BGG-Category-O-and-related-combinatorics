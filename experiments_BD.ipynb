{
 "cells": [
  {
   "cell_type": "code",
   "execution_count": 66,
   "metadata": {},
   "outputs": [],
   "source": [
    "n = 4\n",
    "\n",
    "W = WeylGroup(\"B{}\".format(n), prefix=\"s\")\n",
    "[s1,s2,s3,s4] = W.simple_reflections()\n",
    "\n",
    "\n",
    "WD = WeylGroup(\"D{}\".format(n+1), prefix=\"s\")\n",
    "[d1,d2,d3,d4,d5] = WD.simple_reflections()\n",
    "\n",
    "n = rank(WB)\n",
    "\n",
    "import re\n",
    "\n",
    "\n",
    "def convert_to_123(w):\n",
    "    '''Converts an element from W to the \"123\" string notation.\n",
    "    Does not work with coefficients, as \"convert_to_123_long\".'''\n",
    "    \n",
    "    if w == W(1):\n",
    "        return \"e\"\n",
    "    \n",
    "    return str(w).replace(\"s\",\"\").replace(\"*\",\"\")\n",
    "\n",
    "\n",
    "def convert_from_123(string):\n",
    "    '''Converts one element from W in the \"123\" string notation to the usual \"s1*s2*s3\" notation.'''\n",
    "    \n",
    "    if type(string)== Integer:\n",
    "        string = str(string)\n",
    "        \n",
    "    if string == \"e\":\n",
    "        return W(1)\n",
    "    \n",
    "    string = \"*\".join([char for char in string])\n",
    "    \n",
    "    for i in range(1,n+1):\n",
    "        string = string.replace(str(i),\"s%s\"%i)\n",
    "    \n",
    "    return eval(string)\n",
    "\n",
    "def DR(w):\n",
    "    '''Returns the set of simple right descents of w.'''\n",
    "    \n",
    "    return {W.simple_reflections()[i] for i in w.descents()}\n",
    "\n",
    "\n",
    "def DL(w):\n",
    "    '''Returns the set of simple left   descents of w.'''\n",
    "        \n",
    "    return DR(w.inverse())\n",
    "\n",
    "\n",
    "def AL(w):\n",
    "    '''Returns the set of simple left ascends of w.'''\n",
    "    \n",
    "    DescLe = list(DL(w))\n",
    "    AscLe = [s for s in W.simple_reflections() if s not in DescLe]\n",
    "    return set(AscLe)\n",
    "\n",
    "\n",
    "def AR(w):\n",
    "    '''Returns the set of simple right ascends of w.'''\n",
    "    \n",
    "    DescRi = list(DR(w))\n",
    "    AscRi = [s for s in W.simple_reflections() if s not in DescRi]\n",
    "    return set(AscRi)\n"
   ]
  },
  {
   "cell_type": "code",
   "execution_count": 76,
   "metadata": {},
   "outputs": [
    {
     "name": "stdout",
     "output_type": "stream",
     "text": [
      "JI done!\n",
      "BG done!\n"
     ]
    }
   ],
   "source": [
    "if list(CartanType(W)) == ['B', 2]:   \n",
    "    ######################## B2 ########################\n",
    "\n",
    "    #sum_J KL = 6\n",
    "\n",
    "    #bigrassmannians = join_irreducibles = dissectors: 6\n",
    "\n",
    "    bigrassmannians = [s2, s1, s1*s2*s1, s1*s2, s2*s1, s2*s1*s2]\n",
    "\n",
    "    join_irreducibles = [x for x in bigrassmannians]\n",
    "\n",
    "    dissectors = [x for x in join_irreducibles]\n",
    "\n",
    "if list(CartanType(W)) == ['B', 3]:   \n",
    "    ######################## B3 ########################\n",
    "\n",
    "    #sum_J KL = 19\n",
    "\n",
    "    #bigrassmannians = join_irreducibles = dissectors: 19\n",
    "\n",
    "    bigrassmannians = [s3, s3*s2, s3*s2*s1, s3*s2*s3, s3*s2*s3*s1*s2, s3*s2*s3*s1*s2*s3, s2, s2*s3, s2*s3*s2, s2*s3*s2*s1, s2*s1, s2*s3*s1*s2, s2*s3*s1*s2*s3, s2*s3*s1*s2*s3*s1*s2, s1, s1*s2, s1*s2*s3, s1*s2*s3*s2, s1*s2*s3*s2*s1]\n",
    "\n",
    "    join_irreducibles = [x for x in bigrassmannians]\n",
    "\n",
    "    dissectors = [x for x in join_irreducibles]\n",
    "\n",
    "    \n",
    "if list(CartanType(W)) == ['B', 4]:    \n",
    "    ######################## B4 ########################\n",
    "\n",
    "    #sum_J KL = 44\n",
    "\n",
    "    #bigrassmannians: 45\n",
    "\n",
    "    bigrassmannians = [s2*s3*s1*s2, s4*s3*s4*s2*s3*s4*s1*s2*s3*s4, s2*s1, s2*s3, s1*s2, s3*s2, s3*s4*s2*s3*s4*s1*s2*s3, s1, s3, s1*s2*s3, s3*s2*s1, s3*s4*s2*s3*s4*s2*s3*s1*s2, s3*s4*s2*s3*s4, s2, s3*s4*s2*s3*s4*s2*s3, s2*s3*s4*s1*s2*s3*s4*s2*s3*s1*s2, s2*s3*s4*s1*s2*s3*s4, s4*s3*s4, s4*s3*s4*s2*s3*s1*s2, s2*s3*s4*s1*s2*s3*s4*s2*s3, s4*s3*s4*s2*s3, s1*s2*s3*s4*s3*s2*s1, s4*s3*s4*s2*s3*s4*s1*s2*s3, s3*s4*s3, s3*s4*s3*s2*s1, s1*s2*s3*s4*s3, s2*s3*s4*s3*s2, s4, s3*s4*s2*s3*s4*s1*s2*s3*s4, s2*s3*s4, s4*s3*s2, s1*s2*s3*s4*s3*s2, s4*s3, s4*s3*s4*s2*s3*s4, s1*s2*s3*s4, s3*s4*s2*s3*s4*s1*s2*s3*s4*s1*s2*s3, s4*s3*s2*s1, s2*s3*s4*s3*s2*s1, s2*s3*s4*s1*s2*s3, s3*s4, s3*s4*s2*s3*s1*s2, s2*s3*s4*s3*s1*s2, s3*s4*s2*s3, s2*s3*s4*s3, s3*s4*s3*s2]\n",
    "\n",
    "    #join_irreducibles = dissectors: 44\n",
    "\n",
    "    join_irreducibles = [s4, s3, s2, s1, s3*s2*s1, s1*s2*s3, s2*s3*s4*s3*s2, s3*s4*s2*s3*s4*s1*s2*s3*s4*s1*s2*s3, s1*s2*s3*s4*s3*s2*s1, s3*s4*s3*s2*s1, s1*s2*s3*s4*s3, s4*s3*s4*s2*s3*s4, s2*s3*s1*s2, s3*s4*s2*s3, s4*s3*s4*s2*s3*s1*s2, s2*s3*s4*s1*s2*s3*s4, s3*s4*s3, s4*s3*s4*s2*s3, s2*s1, s3*s4*s2*s3*s4, s1*s2, s2*s3*s4*s3, s4*s3*s2*s1, s3*s4*s3*s2, s1*s2*s3*s4, s2*s3*s4*s3*s2*s1, s3*s4*s2*s3*s4*s2*s3*s1*s2, s3*s2, s2*s3*s4*s1*s2*s3*s4*s2*s3, s2*s3, s1*s2*s3*s4*s3*s2, s2*s3*s4*s1*s2*s3, s4*s3*s2, s3*s4*s2*s3*s4*s1*s2*s3, s2*s3*s4, s3*s4*s2*s3*s1*s2, s2*s3*s4*s1*s2*s3*s4*s2*s3*s1*s2, s4*s3*s4, s3*s4*s2*s3*s4*s2*s3, s4*s3, s3*s4*s2*s3*s4*s1*s2*s3*s4, s4*s3*s4*s2*s3*s4*s1*s2*s3*s4, s3*s4, s4*s3*s4*s2*s3*s4*s1*s2*s3]\n",
    "\n",
    "    dissectors = [x for x in join_irreducibles]\n",
    "\n",
    "\n",
    "if list(CartanType(W)) == ['B', 5]:\n",
    "    ######################## B5 ########################\n",
    "\n",
    "    #sum_J KL = 85\n",
    "\n",
    "    #bigrassmannians: 90\n",
    "\n",
    "    bigrassmannians = [s3, s3*s2, s3*s4, s3*s2*s1, s3*s4*s5, s3*s4*s2*s3, s3*s4*s5*s4, s3*s4*s5*s4*s3, s3*s4*s2*s3*s1*s2, s2, s2*s3, s2*s3*s4, s2*s3*s4*s5, s2*s3*s4*s5*s4, s2*s3*s4*s5*s4*s3, s2*s1, s2*s3*s1*s2, s2*s3*s4*s1*s2*s3, s4, s4*s3, s4*s3*s2, s4*s3*s2*s1, s4*s5, s4*s5*s3*s4, s4*s5*s3*s4*s5, s4*s5*s3*s4*s2*s3, s4*s5*s3*s4*s2*s3*s1*s2, s4*s5*s4, s4*s5*s4*s3, s4*s5*s4*s3*s2, s4*s5*s4*s3*s2*s1, s4*s5*s3*s4*s5*s3*s4, s1, s1*s2, s1*s2*s3, s1*s2*s3*s4, s1*s2*s3*s4*s5, s1*s2*s3*s4*s5*s4, s1*s2*s3*s4*s5*s4*s3, s5, s5*s4, s5*s4*s3, s5*s4*s3*s2, s5*s4*s3*s2*s1, s5*s4*s5, s5*s4*s5*s3*s4, s5*s4*s5*s3*s4*s5, s5*s4*s5*s3*s4*s2*s3, s5*s4*s5*s3*s4*s2*s3*s1*s2, s1*s2*s3*s4*s5*s4*s3*s2, s1*s2*s3*s4*s5*s4*s3*s2*s1, s5*s4*s5*s3*s4*s5*s2*s3*s4*s5, s5*s4*s5*s3*s4*s5*s2*s3*s4, s5*s4*s5*s3*s4*s5*s2*s3*s4*s1*s2*s3, s5*s4*s5*s3*s4*s5*s2*s3*s4*s5*s1*s2*s3*s4, s5*s4*s5*s3*s4*s5*s2*s3*s4*s5*s1*s2*s3*s4*s5, s2*s3*s4*s5*s1*s2*s3*s4*s5*s3*s4*s2*s3*s1*s2, s2*s3*s4*s5*s1*s2*s3*s4*s5*s3*s4*s2*s3, s2*s3*s4*s5*s1*s2*s3*s4*s5*s3*s4, s2*s3*s4*s5*s1*s2*s3*s4*s5, s2*s3*s4*s5*s1*s2*s3*s4, s2*s3*s4*s5*s4*s1*s2*s3, s2*s3*s4*s5*s4*s3*s1*s2, s4*s5*s3*s4*s5*s2*s3*s4*s5*s2*s3*s4, s4*s5*s3*s4*s5*s3*s4*s2*s3, s4*s5*s3*s4*s5*s3*s4*s2*s3*s1*s2, s4*s5*s3*s4*s5*s2*s3*s4*s5, s4*s5*s3*s4*s5*s2*s3*s4, s4*s5*s3*s4*s5*s2*s3*s4*s1*s2*s3, s2*s3*s4*s5*s4*s3*s2, s3*s4*s5*s2*s3*s4*s5*s3*s4*s2*s3, s3*s4*s5*s2*s3*s4*s5*s3*s4, s3*s4*s5*s2*s3*s4*s5, s3*s4*s5*s2*s3*s4, s3*s4*s5*s4*s2*s3, s3*s4*s5*s4*s3*s2, s3*s4*s5*s4*s3*s2*s1, s3*s4*s5*s4*s2*s3*s1*s2, s3*s4*s5*s2*s3*s4*s1*s2*s3, s4*s5*s3*s4*s5*s2*s3*s4*s5*s2*s3*s4*s1*s2*s3, s4*s5*s3*s4*s5*s2*s3*s4*s5*s1*s2*s3*s4*s5*s1*s2*s3*s4, s4*s5*s3*s4*s5*s2*s3*s4*s5*s1*s2*s3*s4, s4*s5*s3*s4*s5*s2*s3*s4*s5*s1*s2*s3*s4*s5, s2*s3*s4*s5*s4*s3*s2*s1, s3*s4*s5*s2*s3*s4*s5*s3*s4*s2*s3*s1*s2, s3*s4*s5*s2*s3*s4*s5*s3*s4*s1*s2*s3, s3*s4*s5*s2*s3*s4*s5*s1*s2*s3*s4*s5*s2*s3*s4*s1*s2*s3, s3*s4*s5*s2*s3*s4*s5*s1*s2*s3*s4, s3*s4*s5*s2*s3*s4*s5*s1*s2*s3*s4*s5*s2*s3*s4, s3*s4*s5*s2*s3*s4*s5*s1*s2*s3*s4*s5]\n",
    "\n",
    "    #join_irreducibles = dissectors: 85\n",
    "\n",
    "    join_irreducibles = [s3, s3*s2, s3*s4, s3*s2*s1, s3*s4*s5, s3*s4*s2*s3, s3*s4*s5*s4, s3*s4*s5*s4*s3, s3*s4*s2*s3*s1*s2, s2, s2*s3, s2*s3*s4, s2*s3*s4*s5, s2*s3*s4*s5*s4, s2*s3*s4*s5*s4*s3, s2*s1, s2*s3*s1*s2, s2*s3*s4*s1*s2*s3, s4, s4*s3, s4*s3*s2, s4*s3*s2*s1, s4*s5, s4*s5*s3*s4, s4*s5*s3*s4*s5, s4*s5*s3*s4*s2*s3, s4*s5*s3*s4*s2*s3*s1*s2, s4*s5*s4, s4*s5*s4*s3, s4*s5*s4*s3*s2, s4*s5*s4*s3*s2*s1, s4*s5*s3*s4*s5*s3*s4, s1, s1*s2, s1*s2*s3, s1*s2*s3*s4, s1*s2*s3*s4*s5, s1*s2*s3*s4*s5*s4, s1*s2*s3*s4*s5*s4*s3, s5, s5*s4, s5*s4*s3, s5*s4*s3*s2, s5*s4*s3*s2*s1, s5*s4*s5, s5*s4*s5*s3*s4, s5*s4*s5*s3*s4*s5, s5*s4*s5*s3*s4*s2*s3, s5*s4*s5*s3*s4*s2*s3*s1*s2, s1*s2*s3*s4*s5*s4*s3*s2, s1*s2*s3*s4*s5*s4*s3*s2*s1, s5*s4*s5*s3*s4*s5*s2*s3*s4*s5, s5*s4*s5*s3*s4*s5*s2*s3*s4, s5*s4*s5*s3*s4*s5*s2*s3*s4*s1*s2*s3, s5*s4*s5*s3*s4*s5*s2*s3*s4*s5*s1*s2*s3*s4, s5*s4*s5*s3*s4*s5*s2*s3*s4*s5*s1*s2*s3*s4*s5, s2*s3*s4*s5*s1*s2*s3*s4*s5*s3*s4*s2*s3*s1*s2, s2*s3*s4*s5*s1*s2*s3*s4*s5*s3*s4*s2*s3, s2*s3*s4*s5*s1*s2*s3*s4*s5*s3*s4, s2*s3*s4*s5*s1*s2*s3*s4*s5, s2*s3*s4*s5*s1*s2*s3*s4, s4*s5*s3*s4*s5*s2*s3*s4*s5*s2*s3*s4, s4*s5*s3*s4*s5*s3*s4*s2*s3, s4*s5*s3*s4*s5*s3*s4*s2*s3*s1*s2, s4*s5*s3*s4*s5*s2*s3*s4*s5, s4*s5*s3*s4*s5*s2*s3*s4, s4*s5*s3*s4*s5*s2*s3*s4*s1*s2*s3, s2*s3*s4*s5*s4*s3*s2, s3*s4*s5*s2*s3*s4*s5*s3*s4*s2*s3, s3*s4*s5*s2*s3*s4*s5*s3*s4, s3*s4*s5*s2*s3*s4*s5, s3*s4*s5*s2*s3*s4, s3*s4*s5*s4*s3*s2, s3*s4*s5*s4*s3*s2*s1, s3*s4*s5*s2*s3*s4*s1*s2*s3, s4*s5*s3*s4*s5*s2*s3*s4*s5*s2*s3*s4*s1*s2*s3, s4*s5*s3*s4*s5*s2*s3*s4*s5*s1*s2*s3*s4*s5*s1*s2*s3*s4, s4*s5*s3*s4*s5*s2*s3*s4*s5*s1*s2*s3*s4, s4*s5*s3*s4*s5*s2*s3*s4*s5*s1*s2*s3*s4*s5, s2*s3*s4*s5*s4*s3*s2*s1, s3*s4*s5*s2*s3*s4*s5*s3*s4*s2*s3*s1*s2, s3*s4*s5*s2*s3*s4*s5*s1*s2*s3*s4*s5*s2*s3*s4*s1*s2*s3, s3*s4*s5*s2*s3*s4*s5*s1*s2*s3*s4, s3*s4*s5*s2*s3*s4*s5*s1*s2*s3*s4*s5*s2*s3*s4, s3*s4*s5*s2*s3*s4*s5*s1*s2*s3*s4*s5]\n",
    "\n",
    "    dissectors = [x for x in join_irreducibles]\n",
    "\n",
    "    \n",
    "\n",
    "JI = {}\n",
    "for x in join_irreducibles:\n",
    "    i = eval(convert_to_123(list(DL(x))[0]))\n",
    "    j = eval(convert_to_123(list(DR(x))[0]))\n",
    "    if (i,j) not in JI:\n",
    "        JI[(i,j)] = []  \n",
    "    JI[(i,j)].append(x)\n",
    "print(\"JI done!\")\n",
    "\n",
    "BG = {}\n",
    "for x in bigrassmannians:\n",
    "    i = eval(convert_to_123(list(DL(x))[0]))\n",
    "    j = eval(convert_to_123(list(DR(x))[0]))  \n",
    "    if (i,j) not in BG:\n",
    "        BG[(i,j)] = []       \n",
    "    BG[(i,j)].append(x)\n",
    "print(\"BG done!\")\n",
    "\n",
    "\n",
    "\n",
    "\n",
    "\n",
    "def bx(i,j,k):\n",
    "    \n",
    "    result = []\n",
    "    \n",
    "    for t in reversed(range(k)):\n",
    "        result += list(range(i,n+1)) + list(reversed(range(j-t,n)))\n",
    "    \n",
    "    return W.from_reduced_word(result)\n",
    "\n",
    "\n"
   ]
  },
  {
   "cell_type": "code",
   "execution_count": 77,
   "metadata": {},
   "outputs": [],
   "source": [
    "def phi(x):\n",
    "    \n",
    "    results = []\n",
    "    for x_ in x.reduced_words():\n",
    "        \n",
    "        x__ = copy(x_)\n",
    "    \n",
    "        count = 0\n",
    "\n",
    "        for i in range(len(x__)):\n",
    "\n",
    "            if x__[i]==n:\n",
    "                count += 1\n",
    "                if count % 2 == 0:\n",
    "                    x__[i] = n+1\n",
    "                    \n",
    "        results.append(WD.from_reduced_word(x__))\n",
    "    \n",
    "    return set(results)"
   ]
  },
  {
   "cell_type": "code",
   "execution_count": 90,
   "metadata": {},
   "outputs": [
    {
     "data": {
      "text/plain": [
       "[[4, 3, 4, 2, 3, 1, 4, 2, 3, 4],\n",
       " [4, 3, 2, 4, 1, 3, 4, 2, 3, 4],\n",
       " [4, 3, 2, 4, 3, 4, 1, 2, 3, 4],\n",
       " [4, 3, 2, 4, 3, 1, 2, 4, 3, 4],\n",
       " [4, 3, 2, 1, 4, 3, 4, 2, 3, 4],\n",
       " [4, 3, 2, 1, 4, 3, 2, 4, 3, 4],\n",
       " [4, 3, 4, 2, 3, 4, 1, 2, 3, 4],\n",
       " [4, 3, 4, 2, 3, 1, 2, 4, 3, 4],\n",
       " [4, 3, 2, 4, 1, 3, 2, 4, 3, 4],\n",
       " [4, 3, 4, 2, 1, 3, 2, 4, 3, 4],\n",
       " [4, 3, 4, 2, 1, 3, 4, 2, 3, 4],\n",
       " [4, 3, 2, 4, 3, 1, 4, 2, 3, 4]]"
      ]
     },
     "execution_count": 90,
     "metadata": {},
     "output_type": "execute_result"
    }
   ],
   "source": [
    "(s4*s3*s2*s1*s4*s3*s2*s4*s3*s4).reduced_words()"
   ]
  },
  {
   "cell_type": "code",
   "execution_count": 91,
   "metadata": {},
   "outputs": [
    {
     "data": {
      "text/plain": [
       "Weyl Group of type ['B', 4] (as a matrix group acting on the ambient space)"
      ]
     },
     "execution_count": 91,
     "metadata": {},
     "output_type": "execute_result"
    }
   ],
   "source": [
    "W"
   ]
  },
  {
   "cell_type": "code",
   "execution_count": 96,
   "metadata": {},
   "outputs": [
    {
     "data": {
      "text/plain": [
       "[s4*s3*s4*s3]"
      ]
     },
     "execution_count": 96,
     "metadata": {},
     "output_type": "execute_result"
    }
   ],
   "source": [
    "W.bruhat_poset().subposet([x for x in W if (s4*s3*s4).bruhat_le(x) and (s3*s4*s3).bruhat_le(x)]).minimal_elements()"
   ]
  },
  {
   "cell_type": "code",
   "execution_count": null,
   "metadata": {},
   "outputs": [],
   "source": []
  }
 ],
 "metadata": {
  "kernelspec": {
   "display_name": "SageMath 9.2",
   "language": "sage",
   "name": "sagemath"
  },
  "language_info": {
   "codemirror_mode": {
    "name": "ipython",
    "version": 3
   },
   "file_extension": ".py",
   "mimetype": "text/x-python",
   "name": "python",
   "nbconvert_exporter": "python",
   "pygments_lexer": "ipython3",
   "version": "3.7.7"
  }
 },
 "nbformat": 4,
 "nbformat_minor": 2
}
