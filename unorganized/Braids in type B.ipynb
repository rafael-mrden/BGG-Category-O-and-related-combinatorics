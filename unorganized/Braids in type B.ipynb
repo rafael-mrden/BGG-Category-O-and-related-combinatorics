{
 "cells": [
  {
   "cell_type": "code",
   "execution_count": 9,
   "metadata": {},
   "outputs": [],
   "source": [
    "W = WeylGroup(\"B4\", prefix=\"s\")\n",
    "[s1,s2,s3,s4] = W.simple_reflections()\n",
    "n = rank(W)\n",
    "w0 = W.long_element()\n",
    "e = W(1)\n",
    "\n",
    "\n",
    "def signedlist(self):\n",
    "    a = self.to_permutation()\n",
    "    b = (w0*self).to_permutation()\n",
    "    minuspart = list(b)\n",
    "    minuspart.reverse()\n",
    "    l = list(a)+minuspart\n",
    "    return l\n",
    "\n",
    "def braid(self,**args):\n",
    "    from sage.plot.line import line\n",
    "    from sage.plot.text import text\n",
    "\n",
    "    r = lambda x,y : (x,y)\n",
    "    self = self.inverse()\n",
    "    p = signedlist(self)\n",
    "\n",
    "    L = line([r(1,1)])\n",
    "    for i in range(len(p)):\n",
    "        if i < n:\n",
    "            if p[i] > 0 :\n",
    "                L += line([r(i,0), r(p[i]-1,1)])\n",
    "                L += text(str(i-n), r(i,-.05))\n",
    "            if p[i] < 0 :\n",
    "                L += line([r(i,0), r(2*n+p[i],1)])\n",
    "                L += text(str(i-n), r(i,-.05))\n",
    "        else:\n",
    "            if p[i] > 0:\n",
    "                L += line([r(i,0), r(p[i]-1,1)])\n",
    "                L += text(str(i-n+1), r(i,-.05))  #+ text(str(i-n), r(p[i]-1,1.05))\n",
    "            else:\n",
    "                L += line([r(i,0), r(p[i]+2*n,1)])\n",
    "                L += text(str(i-n+1), r(i,-.05))  #+ text(str(i-n), r(p[i]-1,1.05))\n",
    "    L.axes(False)\n",
    "    return L\n",
    "\n",
    "def showbraid(self):\n",
    "    L = braid(self)\n",
    "    return L.show(axes = False, figsize = 3)"
   ]
  },
  {
   "cell_type": "code",
   "execution_count": 10,
   "metadata": {},
   "outputs": [
    {
     "data": {
      "image/png": "[encoded data removed]",
      "text/plain": [
       "Graphics object consisting of 17 graphics primitives"
      ]
     },
     "execution_count": 10,
     "metadata": {},
     "output_type": "execute_result"
    }
   ],
   "source": [
    "braid(s1)"
   ]
  },
  {
   "cell_type": "code",
   "execution_count": null,
   "metadata": {},
   "outputs": [],
   "source": []
  }
 ],
 "metadata": {
  "kernelspec": {
   "display_name": "SageMath 9.0",
   "language": "sage",
   "name": "sagemath"
  },
  "language_info": {
   "codemirror_mode": {
    "name": "ipython",
    "version": 3
   },
   "file_extension": ".py",
   "mimetype": "text/x-python",
   "name": "python",
   "nbconvert_exporter": "python",
   "pygments_lexer": "ipython3",
   "version": "3.7.3"
  }
 },
 "nbformat": 4,
 "nbformat_minor": 2
}
